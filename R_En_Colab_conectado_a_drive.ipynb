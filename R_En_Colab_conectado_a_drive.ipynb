{
  "nbformat": 4,
  "nbformat_minor": 0,
  "metadata": {
    "colab": {
      "provenance": []
    },
    "kernelspec": {
      "name": "ir",
      "display_name": "R"
    },
    "language_info": {
      "name": "R"
    }
  },
  "cells": [
    {
      "cell_type": "code",
      "source": [
        "install.packages(\"httpuv\")\n",
        "install.packages(\"googledrive\")\n",
        "library(\"googledrive\")\n",
        "\n",
        "install.packages(\"R.utils\")\n",
        "library(\"R.utils\")\n",
        "library(\"httr\")\n",
        "my_check <- function() {return(TRUE)}\n",
        "reassignInPackage(\"is_interactive\", pkgName = \"httr\", my_check)\n",
        "options(rlang_interactive=TRUE)"
      ],
      "metadata": {
        "colab": {
          "base_uri": "https://localhost:8080/"
        },
        "id": "Dl3h-ftcq2Dm",
        "outputId": "5e264841-b122-45a1-b340-ca62b1aec458"
      },
      "execution_count": null,
      "outputs": [
        {
          "output_type": "stream",
          "name": "stderr",
          "text": [
            "Installing package into ‘/usr/local/lib/R/site-library’\n",
            "(as ‘lib’ is unspecified)\n",
            "\n",
            "also installing the dependencies ‘Rcpp’, ‘promises’, ‘later’\n",
            "\n",
            "\n",
            "Installing package into ‘/usr/local/lib/R/site-library’\n",
            "(as ‘lib’ is unspecified)\n",
            "\n",
            "Installing package into ‘/usr/local/lib/R/site-library’\n",
            "(as ‘lib’ is unspecified)\n",
            "\n",
            "also installing the dependencies ‘R.oo’, ‘R.methodsS3’\n",
            "\n",
            "\n",
            "Loading required package: R.oo\n",
            "\n",
            "Loading required package: R.methodsS3\n",
            "\n",
            "R.methodsS3 v1.8.2 (2022-06-13 22:00:14 UTC) successfully loaded. See ?R.methodsS3 for help.\n",
            "\n",
            "R.oo v1.25.0 (2022-06-12 02:20:02 UTC) successfully loaded. See ?R.oo for help.\n",
            "\n",
            "\n",
            "Attaching package: ‘R.oo’\n",
            "\n",
            "\n",
            "The following object is masked from ‘package:R.methodsS3’:\n",
            "\n",
            "    throw\n",
            "\n",
            "\n",
            "The following objects are masked from ‘package:methods’:\n",
            "\n",
            "    getClasses, getMethods\n",
            "\n",
            "\n",
            "The following objects are masked from ‘package:base’:\n",
            "\n",
            "    attach, detach, load, save\n",
            "\n",
            "\n",
            "R.utils v2.12.2 (2022-11-11 22:00:03 UTC) successfully loaded. See ?R.utils for help.\n",
            "\n",
            "\n",
            "Attaching package: ‘R.utils’\n",
            "\n",
            "\n",
            "The following object is masked from ‘package:utils’:\n",
            "\n",
            "    timestamp\n",
            "\n",
            "\n",
            "The following objects are masked from ‘package:base’:\n",
            "\n",
            "    cat, commandArgs, getOption, isOpen, nullfile, parse, warnings\n",
            "\n",
            "\n"
          ]
        }
      ]
    },
    {
      "cell_type": "code",
      "source": [
        "drive_auth(use_oob = TRUE, cache = FALSE)"
      ],
      "metadata": {
        "colab": {
          "base_uri": "https://localhost:8080/"
        },
        "id": "Elios48krJgn",
        "outputId": "6f6c8b4e-ddb1-4b39-b985-eb1c6154f079"
      },
      "execution_count": null,
      "outputs": [
        {
          "output_type": "stream",
          "name": "stderr",
          "text": [
            "Please point your browser to the following url: \n",
            "\n",
            "https://accounts.google.com/o/oauth2/v2/auth?client_id=603366585132-dpeg5tt0et3go5of2374d83ifevk5086.apps.googleusercontent.com&scope=https%3A%2F%2Fwww.googleapis.com%2Fauth%2Fdrive%20https%3A%2F%2Fwww.googleapis.com%2Fauth%2Fuserinfo.email&redirect_uri=urn%3Aietf%3Awg%3Aoauth%3A2.0%3Aoob&response_type=code\n",
            "\n"
          ]
        },
        {
          "name": "stdout",
          "output_type": "stream",
          "text": [
            "Enter authorization code: 4/1AWgavdcKx9hB_ZdvS_XSVagD61Wy1CcU8zUzEgRYI7IuTX8RadMwqOjR89k\n"
          ]
        }
      ]
    },
    {
      "cell_type": "code",
      "source": [
        "x <- drive_get(\"super_hero_info.csv\")\n",
        "drive_download(x)"
      ],
      "metadata": {
        "colab": {
          "base_uri": "https://localhost:8080/",
          "height": 449
        },
        "id": "m-kMOms0tegR",
        "outputId": "c1749c92-d94e-4630-fd5c-4a0cebdb9e5e"
      },
      "execution_count": null,
      "outputs": [
        {
          "output_type": "stream",
          "name": "stderr",
          "text": [
            "\n",
            "\n",
            "\n",
            "\n",
            "\u001b[33m!\u001b[39m Problem with 1 path: no file has such a canonical path\n",
            "\n",
            "  \u001b[34mcontent/sample_data/datasets/super_hero_info.csv\u001b[39m\n",
            "\n",
            "\u001b[33m!\u001b[39m No path resolved to exactly 1 file.\n",
            "\n"
          ]
        },
        {
          "output_type": "error",
          "ename": "ERROR",
          "evalue": "ignored",
          "traceback": [
            "\u001b[1m\u001b[33mError\u001b[39m in `confirm_single_file()`:\u001b[22m\n\u001b[1m\u001b[22m\u001b[33m!\u001b[39m `file` does not identify at least one Drive file.\nTraceback:\n",
            "1. drive_download(x)",
            "2. confirm_single_file(file)",
            "3. drive_abort(\"{.arg {in_var}} does not identify at least one Drive file.\")",
            "4. cli::cli_abort(message = message, ..., .envir = .envir)",
            "5. rlang::abort(message, ..., call = call, use_cli_format = TRUE, \n .     .frame = .frame)",
            "6. signal_abort(cnd, .file)"
          ]
        }
      ]
    },
    {
      "cell_type": "code",
      "source": [
        "z <- read.csv(\"sample_data/datasets/super_hero_info.csv\")\n",
        "head(z)"
      ],
      "metadata": {
        "colab": {
          "base_uri": "https://localhost:8080/",
          "height": 286
        },
        "id": "hZLHwkmjvTdV",
        "outputId": "bd6decfc-ea21-410f-d784-c29fe79b9d8e"
      },
      "execution_count": null,
      "outputs": [
        {
          "output_type": "display_data",
          "data": {
            "text/html": [
              "<table class=\"dataframe\">\n",
              "<caption>A data.frame: 6 × 11</caption>\n",
              "<thead>\n",
              "\t<tr><th></th><th scope=col>X</th><th scope=col>name</th><th scope=col>Gender</th><th scope=col>Eye.color</th><th scope=col>Race</th><th scope=col>Hair.color</th><th scope=col>Height</th><th scope=col>Publisher</th><th scope=col>Skin.color</th><th scope=col>Alignment</th><th scope=col>Weight</th></tr>\n",
              "\t<tr><th></th><th scope=col>&lt;int&gt;</th><th scope=col>&lt;chr&gt;</th><th scope=col>&lt;chr&gt;</th><th scope=col>&lt;chr&gt;</th><th scope=col>&lt;chr&gt;</th><th scope=col>&lt;chr&gt;</th><th scope=col>&lt;dbl&gt;</th><th scope=col>&lt;chr&gt;</th><th scope=col>&lt;chr&gt;</th><th scope=col>&lt;chr&gt;</th><th scope=col>&lt;dbl&gt;</th></tr>\n",
              "</thead>\n",
              "<tbody>\n",
              "\t<tr><th scope=row>1</th><td>0</td><td>A-Bomb       </td><td>Male</td><td>yellow</td><td>Human            </td><td>No Hair</td><td>203</td><td>Marvel Comics    </td><td>-   </td><td>good</td><td>441</td></tr>\n",
              "\t<tr><th scope=row>2</th><td>1</td><td>Abe Sapien   </td><td>Male</td><td>blue  </td><td>Icthyo Sapien    </td><td>No Hair</td><td>191</td><td>Dark Horse Comics</td><td>blue</td><td>good</td><td> 65</td></tr>\n",
              "\t<tr><th scope=row>3</th><td>2</td><td>Abin Sur     </td><td>Male</td><td>blue  </td><td>Ungaran          </td><td>No Hair</td><td>185</td><td>DC Comics        </td><td>red </td><td>good</td><td> 90</td></tr>\n",
              "\t<tr><th scope=row>4</th><td>3</td><td>Abomination  </td><td>Male</td><td>green </td><td>Human / Radiation</td><td>No Hair</td><td>203</td><td>Marvel Comics    </td><td>-   </td><td>bad </td><td>441</td></tr>\n",
              "\t<tr><th scope=row>5</th><td>4</td><td>Abraxas      </td><td>Male</td><td>blue  </td><td>Cosmic Entity    </td><td>Black  </td><td>-99</td><td>Marvel Comics    </td><td>-   </td><td>bad </td><td>-99</td></tr>\n",
              "\t<tr><th scope=row>6</th><td>5</td><td>Absorbing Man</td><td>Male</td><td>blue  </td><td>Human            </td><td>No Hair</td><td>193</td><td>Marvel Comics    </td><td>-   </td><td>bad </td><td>122</td></tr>\n",
              "</tbody>\n",
              "</table>\n"
            ],
            "text/markdown": "\nA data.frame: 6 × 11\n\n| <!--/--> | X &lt;int&gt; | name &lt;chr&gt; | Gender &lt;chr&gt; | Eye.color &lt;chr&gt; | Race &lt;chr&gt; | Hair.color &lt;chr&gt; | Height &lt;dbl&gt; | Publisher &lt;chr&gt; | Skin.color &lt;chr&gt; | Alignment &lt;chr&gt; | Weight &lt;dbl&gt; |\n|---|---|---|---|---|---|---|---|---|---|---|---|\n| 1 | 0 | A-Bomb        | Male | yellow | Human             | No Hair | 203 | Marvel Comics     | -    | good | 441 |\n| 2 | 1 | Abe Sapien    | Male | blue   | Icthyo Sapien     | No Hair | 191 | Dark Horse Comics | blue | good |  65 |\n| 3 | 2 | Abin Sur      | Male | blue   | Ungaran           | No Hair | 185 | DC Comics         | red  | good |  90 |\n| 4 | 3 | Abomination   | Male | green  | Human / Radiation | No Hair | 203 | Marvel Comics     | -    | bad  | 441 |\n| 5 | 4 | Abraxas       | Male | blue   | Cosmic Entity     | Black   | -99 | Marvel Comics     | -    | bad  | -99 |\n| 6 | 5 | Absorbing Man | Male | blue   | Human             | No Hair | 193 | Marvel Comics     | -    | bad  | 122 |\n\n",
            "text/latex": "A data.frame: 6 × 11\n\\begin{tabular}{r|lllllllllll}\n  & X & name & Gender & Eye.color & Race & Hair.color & Height & Publisher & Skin.color & Alignment & Weight\\\\\n  & <int> & <chr> & <chr> & <chr> & <chr> & <chr> & <dbl> & <chr> & <chr> & <chr> & <dbl>\\\\\n\\hline\n\t1 & 0 & A-Bomb        & Male & yellow & Human             & No Hair & 203 & Marvel Comics     & -    & good & 441\\\\\n\t2 & 1 & Abe Sapien    & Male & blue   & Icthyo Sapien     & No Hair & 191 & Dark Horse Comics & blue & good &  65\\\\\n\t3 & 2 & Abin Sur      & Male & blue   & Ungaran           & No Hair & 185 & DC Comics         & red  & good &  90\\\\\n\t4 & 3 & Abomination   & Male & green  & Human / Radiation & No Hair & 203 & Marvel Comics     & -    & bad  & 441\\\\\n\t5 & 4 & Abraxas       & Male & blue   & Cosmic Entity     & Black   & -99 & Marvel Comics     & -    & bad  & -99\\\\\n\t6 & 5 & Absorbing Man & Male & blue   & Human             & No Hair & 193 & Marvel Comics     & -    & bad  & 122\\\\\n\\end{tabular}\n",
            "text/plain": [
              "  X name          Gender Eye.color Race              Hair.color Height\n",
              "1 0 A-Bomb        Male   yellow    Human             No Hair    203   \n",
              "2 1 Abe Sapien    Male   blue      Icthyo Sapien     No Hair    191   \n",
              "3 2 Abin Sur      Male   blue      Ungaran           No Hair    185   \n",
              "4 3 Abomination   Male   green     Human / Radiation No Hair    203   \n",
              "5 4 Abraxas       Male   blue      Cosmic Entity     Black      -99   \n",
              "6 5 Absorbing Man Male   blue      Human             No Hair    193   \n",
              "  Publisher         Skin.color Alignment Weight\n",
              "1 Marvel Comics     -          good      441   \n",
              "2 Dark Horse Comics blue       good       65   \n",
              "3 DC Comics         red        good       90   \n",
              "4 Marvel Comics     -          bad       441   \n",
              "5 Marvel Comics     -          bad       -99   \n",
              "6 Marvel Comics     -          bad       122   "
            ]
          },
          "metadata": {}
        }
      ]
    },
    {
      "cell_type": "code",
      "source": [],
      "metadata": {
        "id": "0FHfF10-Z4j2"
      },
      "execution_count": null,
      "outputs": []
    },
    {
      "cell_type": "code",
      "source": [
        "drive_ls(path = \"datasets\") #Listar archivos de la carpeta datasets"
      ],
      "metadata": {
        "id": "bC4zq9CwMxb5"
      },
      "execution_count": null,
      "outputs": []
    },
    {
      "cell_type": "code",
      "source": [],
      "metadata": {
        "colab": {
          "base_uri": "https://localhost:8080/",
          "height": 135
        },
        "id": "Q4SFiByI-83B",
        "outputId": "8796991c-810f-4249-e149-41e0af28d900"
      },
      "execution_count": null,
      "outputs": [
        {
          "output_type": "error",
          "ename": "ERROR",
          "evalue": "ignored",
          "traceback": [
            "Error in parse(text = x, srcfile = src): <text>:1:1: unexpected input\n1: %cd /content/Github/\n    ^\nTraceback:\n"
          ]
        }
      ]
    },
    {
      "cell_type": "code",
      "source": [],
      "metadata": {
        "id": "u1N6tw9F_LgZ"
      },
      "execution_count": null,
      "outputs": []
    },
    {
      "cell_type": "code",
      "source": [],
      "metadata": {
        "colab": {
          "base_uri": "https://localhost:8080/",
          "height": 135
        },
        "id": "oHT5jwBLOK2O",
        "outputId": "a9266944-9517-4227-e2d0-ba6e41bec8ec"
      },
      "execution_count": null,
      "outputs": [
        {
          "output_type": "error",
          "ename": "ERROR",
          "evalue": "ignored",
          "traceback": [
            "Error in parse(text = x, srcfile = src): <text>:1:6: unexpected symbol\n1: !git init\n         ^\nTraceback:\n"
          ]
        }
      ]
    },
    {
      "cell_type": "code",
      "source": [],
      "metadata": {
        "id": "lvXudkjbOp1X"
      },
      "execution_count": null,
      "outputs": []
    }
  ]
}